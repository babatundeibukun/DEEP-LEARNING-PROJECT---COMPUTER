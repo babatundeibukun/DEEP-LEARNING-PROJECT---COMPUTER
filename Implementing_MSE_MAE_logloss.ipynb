{
  "nbformat": 4,
  "nbformat_minor": 0,
  "metadata": {
    "colab": {
      "provenance": [],
      "authorship_tag": "ABX9TyNYIXpd5x/jRIdbS+EPxzoo",
      "include_colab_link": true
    },
    "kernelspec": {
      "name": "python3",
      "display_name": "Python 3"
    },
    "language_info": {
      "name": "python"
    }
  },
  "cells": [
    {
      "cell_type": "markdown",
      "metadata": {
        "id": "view-in-github",
        "colab_type": "text"
      },
      "source": [
        "<a href=\"https://colab.research.google.com/github/babatundeibukun/DEEP-LEARNING-PROJECT---COMPUTER/blob/main/Implementing_MSE_MAE_logloss.ipynb\" target=\"_parent\"><img src=\"https://colab.research.google.com/assets/colab-badge.svg\" alt=\"Open In Colab\"/></a>"
      ]
    },
    {
      "cell_type": "markdown",
      "source": [
        "#MAE"
      ],
      "metadata": {
        "id": "HKXVV-5nlACL"
      }
    },
    {
      "cell_type": "code",
      "source": [
        "import numpy as np"
      ],
      "metadata": {
        "id": "FSQ3w91UmjIb"
      },
      "execution_count": 54,
      "outputs": []
    },
    {
      "cell_type": "code",
      "execution_count": 55,
      "metadata": {
        "id": "a_JRJDTnky2W"
      },
      "outputs": [],
      "source": [
        "y_pred = np.array([1,1,0,0,1])\n",
        "y_true = np.array([0.30,0.7,1,0,0.5])"
      ]
    },
    {
      "cell_type": "code",
      "source": [
        "def MAE(y_pred,y_true):\n",
        "  total_error=0\n",
        "  for yp,yt in zip(y_pred,y_true):\n",
        "    print(yt, yp)\n",
        "    total_error+=abs(yp-yt)\n",
        "  print(\"MAE:\",total_error)\n",
        "  mae=total_error/len(y_pred)\n",
        "  return mae\n",
        ""
      ],
      "metadata": {
        "id": "6rVf5iVZmn6B"
      },
      "execution_count": 56,
      "outputs": []
    },
    {
      "cell_type": "code",
      "source": [
        "MAE(y_pred,y_true)"
      ],
      "metadata": {
        "colab": {
          "base_uri": "https://localhost:8080/"
        },
        "id": "o9bxWlWXnqvY",
        "outputId": "987e4255-71c6-4a79-a48d-769bb5514fa8"
      },
      "execution_count": 57,
      "outputs": [
        {
          "output_type": "stream",
          "name": "stdout",
          "text": [
            "0.3 1\n",
            "0.7 1\n",
            "1.0 0\n",
            "0.0 0\n",
            "0.5 1\n",
            "MAE: 2.5\n"
          ]
        },
        {
          "output_type": "execute_result",
          "data": {
            "text/plain": [
              "0.5"
            ]
          },
          "metadata": {},
          "execution_count": 57
        }
      ]
    },
    {
      "cell_type": "markdown",
      "source": [
        "using numpy to get the same result"
      ],
      "metadata": {
        "id": "z4VlsaLIrLQr"
      }
    },
    {
      "cell_type": "code",
      "source": [
        "np.mean(np.abs(y_pred,y_true))"
      ],
      "metadata": {
        "colab": {
          "base_uri": "https://localhost:8080/"
        },
        "id": "hhG3KC7GoA-F",
        "outputId": "e5702042-abcb-43a5-aada-f969fda86046"
      },
      "execution_count": 58,
      "outputs": [
        {
          "output_type": "execute_result",
          "data": {
            "text/plain": [
              "0.6"
            ]
          },
          "metadata": {},
          "execution_count": 58
        }
      ]
    },
    {
      "cell_type": "markdown",
      "source": [
        "MSE implementation without using numpy"
      ],
      "metadata": {
        "id": "p6j1P8bQrcBE"
      }
    },
    {
      "cell_type": "code",
      "source": [
        "y_pred = np.array([1,1,0,0,1])\n",
        "y_true = np.array([0.30,0.7,1,0,0.5])"
      ],
      "metadata": {
        "id": "Qjn0c2-BzTGU"
      },
      "execution_count": 61,
      "outputs": []
    },
    {
      "cell_type": "code",
      "source": [
        "def MSE(y_pred, y_true):\n",
        "  total_error = 0\n",
        "  for yp, yt in zip(y_pred, y_true):\n",
        "    total_error += (yt-yp)**2\n",
        "    print(yt, yp)\n",
        "  print('total_error', total_error)\n",
        "  MSE= total_error/len(y_pred)\n",
        "  return MSE\n",
        "\n",
        "\n",
        "\n"
      ],
      "metadata": {
        "id": "JTg6YFoGrS8N"
      },
      "execution_count": 62,
      "outputs": []
    },
    {
      "cell_type": "code",
      "source": [
        "MSE(y_pred, y_true)"
      ],
      "metadata": {
        "colab": {
          "base_uri": "https://localhost:8080/"
        },
        "id": "rsdCb2ctueit",
        "outputId": "3b9e472e-c4c4-4a5f-b902-43ff660b76e3"
      },
      "execution_count": 63,
      "outputs": [
        {
          "output_type": "stream",
          "name": "stdout",
          "text": [
            "0.3 1\n",
            "0.7 1\n",
            "1.0 0\n",
            "0.0 0\n",
            "0.5 1\n",
            "total_error 1.83\n"
          ]
        },
        {
          "output_type": "execute_result",
          "data": {
            "text/plain": [
              "0.366"
            ]
          },
          "metadata": {},
          "execution_count": 63
        }
      ]
    },
    {
      "cell_type": "markdown",
      "source": [
        "using numpy"
      ],
      "metadata": {
        "id": "RO3FYskEv7kT"
      }
    },
    {
      "cell_type": "code",
      "source": [
        "np.mean(np.square(y_true-y_pred))"
      ],
      "metadata": {
        "colab": {
          "base_uri": "https://localhost:8080/"
        },
        "id": "y6ykrRXTv7Ng",
        "outputId": "7b10d5b5-81e5-4d04-a75c-7ac177f51e95"
      },
      "execution_count": 64,
      "outputs": [
        {
          "output_type": "execute_result",
          "data": {
            "text/plain": [
              "0.366"
            ]
          },
          "metadata": {},
          "execution_count": 64
        }
      ]
    },
    {
      "cell_type": "markdown",
      "source": [
        "#LOG LOSS"
      ],
      "metadata": {
        "id": "WisUbt_uz3iH"
      }
    },
    {
      "cell_type": "code",
      "source": [
        "def log_loss(y_true, y_predicted):\n",
        "    y_predicted_new = [max(i,epsilon) for i in y_predicted]\n",
        "    y_predicted_new = [min(i,1-epsilon) for i in y_predicted_new]\n",
        "    y_predicted_new = np.array(y_predicted_new)\n",
        "    return -np.mean(y_true*np.log(y_predicted_new)+(1-y_true)*np.log(1-y_predicted_new))"
      ],
      "metadata": {
        "id": "uD9XxaRXz144"
      },
      "execution_count": 65,
      "outputs": []
    }
  ]
}