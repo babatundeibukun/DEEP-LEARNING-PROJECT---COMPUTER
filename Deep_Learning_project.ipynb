{
  "nbformat": 4,
  "nbformat_minor": 0,
  "metadata": {
    "colab": {
      "name": "Deep Learning project.ipynb",
      "provenance": [],
      "collapsed_sections": [],
      "include_colab_link": true
    },
    "kernelspec": {
      "name": "python3",
      "display_name": "Python 3"
    },
    "language_info": {
      "name": "python"
    },
    "accelerator": "GPU",
    "widgets": {
      "application/vnd.jupyter.widget-state+json": {
        "288fc7d885eb4d3c97e076268462e687": {
          "model_module": "@jupyter-widgets/controls",
          "model_name": "HBoxModel",
          "model_module_version": "1.5.0",
          "state": {
            "_dom_classes": [],
            "_model_module": "@jupyter-widgets/controls",
            "_model_module_version": "1.5.0",
            "_model_name": "HBoxModel",
            "_view_count": null,
            "_view_module": "@jupyter-widgets/controls",
            "_view_module_version": "1.5.0",
            "_view_name": "HBoxView",
            "box_style": "",
            "children": [
              "IPY_MODEL_80c5335d180748ebb7de6d3a694170ca",
              "IPY_MODEL_0eb84a5bada34ec2a262e6fa3645300d",
              "IPY_MODEL_866e54f9bde344e3aa213b8b40f08261"
            ],
            "layout": "IPY_MODEL_8bdde5ca6bd9467db92b9dcf5f95a74c"
          }
        },
        "80c5335d180748ebb7de6d3a694170ca": {
          "model_module": "@jupyter-widgets/controls",
          "model_name": "HTMLModel",
          "model_module_version": "1.5.0",
          "state": {
            "_dom_classes": [],
            "_model_module": "@jupyter-widgets/controls",
            "_model_module_version": "1.5.0",
            "_model_name": "HTMLModel",
            "_view_count": null,
            "_view_module": "@jupyter-widgets/controls",
            "_view_module_version": "1.5.0",
            "_view_name": "HTMLView",
            "description": "",
            "description_tooltip": null,
            "layout": "IPY_MODEL_5012dbf9dce74aaf90ca92c94b510625",
            "placeholder": "​",
            "style": "IPY_MODEL_5a412697a65f431c960721751c94a482",
            "value": "100%"
          }
        },
        "0eb84a5bada34ec2a262e6fa3645300d": {
          "model_module": "@jupyter-widgets/controls",
          "model_name": "FloatProgressModel",
          "model_module_version": "1.5.0",
          "state": {
            "_dom_classes": [],
            "_model_module": "@jupyter-widgets/controls",
            "_model_module_version": "1.5.0",
            "_model_name": "FloatProgressModel",
            "_view_count": null,
            "_view_module": "@jupyter-widgets/controls",
            "_view_module_version": "1.5.0",
            "_view_name": "ProgressView",
            "bar_style": "success",
            "description": "",
            "description_tooltip": null,
            "layout": "IPY_MODEL_a61e6baaf9c34b5b901a11feceea7638",
            "max": 2,
            "min": 0,
            "orientation": "horizontal",
            "style": "IPY_MODEL_7516fb988b5241ebbe4f142bb69de4aa",
            "value": 2
          }
        },
        "866e54f9bde344e3aa213b8b40f08261": {
          "model_module": "@jupyter-widgets/controls",
          "model_name": "HTMLModel",
          "model_module_version": "1.5.0",
          "state": {
            "_dom_classes": [],
            "_model_module": "@jupyter-widgets/controls",
            "_model_module_version": "1.5.0",
            "_model_name": "HTMLModel",
            "_view_count": null,
            "_view_module": "@jupyter-widgets/controls",
            "_view_module_version": "1.5.0",
            "_view_name": "HTMLView",
            "description": "",
            "description_tooltip": null,
            "layout": "IPY_MODEL_6b7bc0b8a496439bb7f714098a3d58f8",
            "placeholder": "​",
            "style": "IPY_MODEL_b90d25015b3c41b78339290380b29f02",
            "value": " 2/2 [00:00&lt;00:00, 45.14it/s]"
          }
        },
        "8bdde5ca6bd9467db92b9dcf5f95a74c": {
          "model_module": "@jupyter-widgets/base",
          "model_name": "LayoutModel",
          "model_module_version": "1.2.0",
          "state": {
            "_model_module": "@jupyter-widgets/base",
            "_model_module_version": "1.2.0",
            "_model_name": "LayoutModel",
            "_view_count": null,
            "_view_module": "@jupyter-widgets/base",
            "_view_module_version": "1.2.0",
            "_view_name": "LayoutView",
            "align_content": null,
            "align_items": null,
            "align_self": null,
            "border": null,
            "bottom": null,
            "display": null,
            "flex": null,
            "flex_flow": null,
            "grid_area": null,
            "grid_auto_columns": null,
            "grid_auto_flow": null,
            "grid_auto_rows": null,
            "grid_column": null,
            "grid_gap": null,
            "grid_row": null,
            "grid_template_areas": null,
            "grid_template_columns": null,
            "grid_template_rows": null,
            "height": null,
            "justify_content": null,
            "justify_items": null,
            "left": null,
            "margin": null,
            "max_height": null,
            "max_width": null,
            "min_height": null,
            "min_width": null,
            "object_fit": null,
            "object_position": null,
            "order": null,
            "overflow": null,
            "overflow_x": null,
            "overflow_y": null,
            "padding": null,
            "right": null,
            "top": null,
            "visibility": null,
            "width": null
          }
        },
        "5012dbf9dce74aaf90ca92c94b510625": {
          "model_module": "@jupyter-widgets/base",
          "model_name": "LayoutModel",
          "model_module_version": "1.2.0",
          "state": {
            "_model_module": "@jupyter-widgets/base",
            "_model_module_version": "1.2.0",
            "_model_name": "LayoutModel",
            "_view_count": null,
            "_view_module": "@jupyter-widgets/base",
            "_view_module_version": "1.2.0",
            "_view_name": "LayoutView",
            "align_content": null,
            "align_items": null,
            "align_self": null,
            "border": null,
            "bottom": null,
            "display": null,
            "flex": null,
            "flex_flow": null,
            "grid_area": null,
            "grid_auto_columns": null,
            "grid_auto_flow": null,
            "grid_auto_rows": null,
            "grid_column": null,
            "grid_gap": null,
            "grid_row": null,
            "grid_template_areas": null,
            "grid_template_columns": null,
            "grid_template_rows": null,
            "height": null,
            "justify_content": null,
            "justify_items": null,
            "left": null,
            "margin": null,
            "max_height": null,
            "max_width": null,
            "min_height": null,
            "min_width": null,
            "object_fit": null,
            "object_position": null,
            "order": null,
            "overflow": null,
            "overflow_x": null,
            "overflow_y": null,
            "padding": null,
            "right": null,
            "top": null,
            "visibility": null,
            "width": null
          }
        },
        "5a412697a65f431c960721751c94a482": {
          "model_module": "@jupyter-widgets/controls",
          "model_name": "DescriptionStyleModel",
          "model_module_version": "1.5.0",
          "state": {
            "_model_module": "@jupyter-widgets/controls",
            "_model_module_version": "1.5.0",
            "_model_name": "DescriptionStyleModel",
            "_view_count": null,
            "_view_module": "@jupyter-widgets/base",
            "_view_module_version": "1.2.0",
            "_view_name": "StyleView",
            "description_width": ""
          }
        },
        "a61e6baaf9c34b5b901a11feceea7638": {
          "model_module": "@jupyter-widgets/base",
          "model_name": "LayoutModel",
          "model_module_version": "1.2.0",
          "state": {
            "_model_module": "@jupyter-widgets/base",
            "_model_module_version": "1.2.0",
            "_model_name": "LayoutModel",
            "_view_count": null,
            "_view_module": "@jupyter-widgets/base",
            "_view_module_version": "1.2.0",
            "_view_name": "LayoutView",
            "align_content": null,
            "align_items": null,
            "align_self": null,
            "border": null,
            "bottom": null,
            "display": null,
            "flex": null,
            "flex_flow": null,
            "grid_area": null,
            "grid_auto_columns": null,
            "grid_auto_flow": null,
            "grid_auto_rows": null,
            "grid_column": null,
            "grid_gap": null,
            "grid_row": null,
            "grid_template_areas": null,
            "grid_template_columns": null,
            "grid_template_rows": null,
            "height": null,
            "justify_content": null,
            "justify_items": null,
            "left": null,
            "margin": null,
            "max_height": null,
            "max_width": null,
            "min_height": null,
            "min_width": null,
            "object_fit": null,
            "object_position": null,
            "order": null,
            "overflow": null,
            "overflow_x": null,
            "overflow_y": null,
            "padding": null,
            "right": null,
            "top": null,
            "visibility": null,
            "width": null
          }
        },
        "7516fb988b5241ebbe4f142bb69de4aa": {
          "model_module": "@jupyter-widgets/controls",
          "model_name": "ProgressStyleModel",
          "model_module_version": "1.5.0",
          "state": {
            "_model_module": "@jupyter-widgets/controls",
            "_model_module_version": "1.5.0",
            "_model_name": "ProgressStyleModel",
            "_view_count": null,
            "_view_module": "@jupyter-widgets/base",
            "_view_module_version": "1.2.0",
            "_view_name": "StyleView",
            "bar_color": null,
            "description_width": ""
          }
        },
        "6b7bc0b8a496439bb7f714098a3d58f8": {
          "model_module": "@jupyter-widgets/base",
          "model_name": "LayoutModel",
          "model_module_version": "1.2.0",
          "state": {
            "_model_module": "@jupyter-widgets/base",
            "_model_module_version": "1.2.0",
            "_model_name": "LayoutModel",
            "_view_count": null,
            "_view_module": "@jupyter-widgets/base",
            "_view_module_version": "1.2.0",
            "_view_name": "LayoutView",
            "align_content": null,
            "align_items": null,
            "align_self": null,
            "border": null,
            "bottom": null,
            "display": null,
            "flex": null,
            "flex_flow": null,
            "grid_area": null,
            "grid_auto_columns": null,
            "grid_auto_flow": null,
            "grid_auto_rows": null,
            "grid_column": null,
            "grid_gap": null,
            "grid_row": null,
            "grid_template_areas": null,
            "grid_template_columns": null,
            "grid_template_rows": null,
            "height": null,
            "justify_content": null,
            "justify_items": null,
            "left": null,
            "margin": null,
            "max_height": null,
            "max_width": null,
            "min_height": null,
            "min_width": null,
            "object_fit": null,
            "object_position": null,
            "order": null,
            "overflow": null,
            "overflow_x": null,
            "overflow_y": null,
            "padding": null,
            "right": null,
            "top": null,
            "visibility": null,
            "width": null
          }
        },
        "b90d25015b3c41b78339290380b29f02": {
          "model_module": "@jupyter-widgets/controls",
          "model_name": "DescriptionStyleModel",
          "model_module_version": "1.5.0",
          "state": {
            "_model_module": "@jupyter-widgets/controls",
            "_model_module_version": "1.5.0",
            "_model_name": "DescriptionStyleModel",
            "_view_count": null,
            "_view_module": "@jupyter-widgets/base",
            "_view_module_version": "1.2.0",
            "_view_name": "StyleView",
            "description_width": ""
          }
        }
      }
    }
  },
  "cells": [
    {
      "cell_type": "markdown",
      "metadata": {
        "id": "view-in-github",
        "colab_type": "text"
      },
      "source": [
        "<a href=\"https://colab.research.google.com/github/babatundeibukun/DEEP-LEARNING-PROJECT---COMPUTER/blob/main/Deep_Learning_project.ipynb\" target=\"_parent\"><img src=\"https://colab.research.google.com/assets/colab-badge.svg\" alt=\"Open In Colab\"/></a>"
      ]
    },
    {
      "cell_type": "code",
      "execution_count": null,
      "metadata": {
        "colab": {
          "base_uri": "https://localhost:8080/"
        },
        "id": "cThQtI6vBYa9",
        "outputId": "7f9c04e4-1e8d-46ac-aa75-bea847805ce8"
      },
      "outputs": [
        {
          "output_type": "stream",
          "name": "stdout",
          "text": [
            "Requirement already satisfied: datasets in /usr/local/lib/python3.7/dist-packages (2.0.0)\n",
            "Requirement already satisfied: dill in /usr/local/lib/python3.7/dist-packages (from datasets) (0.3.4)\n",
            "Requirement already satisfied: multiprocess in /usr/local/lib/python3.7/dist-packages (from datasets) (0.70.12.2)\n",
            "Requirement already satisfied: xxhash in /usr/local/lib/python3.7/dist-packages (from datasets) (3.0.0)\n",
            "Requirement already satisfied: tqdm>=4.62.1 in /usr/local/lib/python3.7/dist-packages (from datasets) (4.63.0)\n",
            "Requirement already satisfied: aiohttp in /usr/local/lib/python3.7/dist-packages (from datasets) (3.8.1)\n",
            "Requirement already satisfied: fsspec[http]>=2021.05.0 in /usr/local/lib/python3.7/dist-packages (from datasets) (2022.3.0)\n",
            "Requirement already satisfied: importlib-metadata in /usr/local/lib/python3.7/dist-packages (from datasets) (4.11.3)\n",
            "Requirement already satisfied: packaging in /usr/local/lib/python3.7/dist-packages (from datasets) (21.3)\n",
            "Requirement already satisfied: responses<0.19 in /usr/local/lib/python3.7/dist-packages (from datasets) (0.18.0)\n",
            "Requirement already satisfied: pyarrow>=5.0.0 in /usr/local/lib/python3.7/dist-packages (from datasets) (6.0.1)\n",
            "Requirement already satisfied: requests>=2.19.0 in /usr/local/lib/python3.7/dist-packages (from datasets) (2.23.0)\n",
            "Requirement already satisfied: pandas in /usr/local/lib/python3.7/dist-packages (from datasets) (1.3.5)\n",
            "Requirement already satisfied: huggingface-hub<1.0.0,>=0.1.0 in /usr/local/lib/python3.7/dist-packages (from datasets) (0.4.0)\n",
            "Requirement already satisfied: numpy>=1.17 in /usr/local/lib/python3.7/dist-packages (from datasets) (1.21.5)\n",
            "Requirement already satisfied: pyyaml in /usr/local/lib/python3.7/dist-packages (from huggingface-hub<1.0.0,>=0.1.0->datasets) (3.13)\n",
            "Requirement already satisfied: typing-extensions>=3.7.4.3 in /usr/local/lib/python3.7/dist-packages (from huggingface-hub<1.0.0,>=0.1.0->datasets) (3.10.0.2)\n",
            "Requirement already satisfied: filelock in /usr/local/lib/python3.7/dist-packages (from huggingface-hub<1.0.0,>=0.1.0->datasets) (3.6.0)\n",
            "Requirement already satisfied: pyparsing!=3.0.5,>=2.0.2 in /usr/local/lib/python3.7/dist-packages (from packaging->datasets) (3.0.7)\n",
            "Requirement already satisfied: certifi>=2017.4.17 in /usr/local/lib/python3.7/dist-packages (from requests>=2.19.0->datasets) (2021.10.8)\n",
            "Requirement already satisfied: urllib3!=1.25.0,!=1.25.1,<1.26,>=1.21.1 in /usr/local/lib/python3.7/dist-packages (from requests>=2.19.0->datasets) (1.25.11)\n",
            "Requirement already satisfied: idna<3,>=2.5 in /usr/local/lib/python3.7/dist-packages (from requests>=2.19.0->datasets) (2.10)\n",
            "Requirement already satisfied: chardet<4,>=3.0.2 in /usr/local/lib/python3.7/dist-packages (from requests>=2.19.0->datasets) (3.0.4)\n",
            "Requirement already satisfied: charset-normalizer<3.0,>=2.0 in /usr/local/lib/python3.7/dist-packages (from aiohttp->datasets) (2.0.12)\n",
            "Requirement already satisfied: async-timeout<5.0,>=4.0.0a3 in /usr/local/lib/python3.7/dist-packages (from aiohttp->datasets) (4.0.2)\n",
            "Requirement already satisfied: aiosignal>=1.1.2 in /usr/local/lib/python3.7/dist-packages (from aiohttp->datasets) (1.2.0)\n",
            "Requirement already satisfied: multidict<7.0,>=4.5 in /usr/local/lib/python3.7/dist-packages (from aiohttp->datasets) (6.0.2)\n",
            "Requirement already satisfied: frozenlist>=1.1.1 in /usr/local/lib/python3.7/dist-packages (from aiohttp->datasets) (1.3.0)\n",
            "Requirement already satisfied: asynctest==0.13.0 in /usr/local/lib/python3.7/dist-packages (from aiohttp->datasets) (0.13.0)\n",
            "Requirement already satisfied: yarl<2.0,>=1.0 in /usr/local/lib/python3.7/dist-packages (from aiohttp->datasets) (1.7.2)\n",
            "Requirement already satisfied: attrs>=17.3.0 in /usr/local/lib/python3.7/dist-packages (from aiohttp->datasets) (21.4.0)\n",
            "Requirement already satisfied: zipp>=0.5 in /usr/local/lib/python3.7/dist-packages (from importlib-metadata->datasets) (3.7.0)\n",
            "Requirement already satisfied: pytz>=2017.3 in /usr/local/lib/python3.7/dist-packages (from pandas->datasets) (2018.9)\n",
            "Requirement already satisfied: python-dateutil>=2.7.3 in /usr/local/lib/python3.7/dist-packages (from pandas->datasets) (2.8.2)\n",
            "Requirement already satisfied: six>=1.5 in /usr/local/lib/python3.7/dist-packages (from python-dateutil>=2.7.3->pandas->datasets) (1.15.0)\n"
          ]
        }
      ],
      "source": [
        "#pip installing the datasets library\n",
        "!pip install datasets"
      ]
    },
    {
      "cell_type": "code",
      "source": [
        "#importing the necessary libraries\n",
        "from random import shuffle\n",
        "from datasets import load_dataset\n",
        "from PIL import Image\n",
        "import numpy as np"
      ],
      "metadata": {
        "id": "mFavXIhOi-2M"
      },
      "execution_count": null,
      "outputs": []
    },
    {
      "cell_type": "code",
      "source": [
        "#loading in the cifar10 dataset from the datasets library\n",
        "ds = load_dataset(\"cifar10\")"
      ],
      "metadata": {
        "colab": {
          "base_uri": "https://localhost:8080/",
          "height": 86,
          "referenced_widgets": [
            "288fc7d885eb4d3c97e076268462e687",
            "80c5335d180748ebb7de6d3a694170ca",
            "0eb84a5bada34ec2a262e6fa3645300d",
            "866e54f9bde344e3aa213b8b40f08261",
            "8bdde5ca6bd9467db92b9dcf5f95a74c",
            "5012dbf9dce74aaf90ca92c94b510625",
            "5a412697a65f431c960721751c94a482",
            "a61e6baaf9c34b5b901a11feceea7638",
            "7516fb988b5241ebbe4f142bb69de4aa",
            "6b7bc0b8a496439bb7f714098a3d58f8",
            "b90d25015b3c41b78339290380b29f02"
          ]
        },
        "id": "AXXXjG0jB0Rb",
        "outputId": "48501724-38cb-4b8e-8a00-46c6609d49fb"
      },
      "execution_count": null,
      "outputs": [
        {
          "output_type": "stream",
          "name": "stderr",
          "text": [
            "Reusing dataset cifar10 (/root/.cache/huggingface/datasets/cifar10/plain_text/1.0.0/447d6ec4733dddd1ce3bb577c7166b986eaa4c538dcd9e805ba61f35674a9de4)\n"
          ]
        },
        {
          "output_type": "display_data",
          "data": {
            "text/plain": [
              "  0%|          | 0/2 [00:00<?, ?it/s]"
            ],
            "application/vnd.jupyter.widget-view+json": {
              "version_major": 2,
              "version_minor": 0,
              "model_id": "288fc7d885eb4d3c97e076268462e687"
            }
          },
          "metadata": {}
        }
      ]
    },
    {
      "cell_type": "code",
      "source": [
        "#selecting only the image part of both the train and test split\n",
        "train = ds[\"train\"][\"img\"]\n",
        "test = ds[\"test\"][\"img\"]\n"
      ],
      "metadata": {
        "id": "-Sdx_U7QCDaS"
      },
      "execution_count": null,
      "outputs": []
    },
    {
      "cell_type": "code",
      "source": [
        "#converting the train images into numpy arrays\n",
        "training_data = []\n",
        "testing_data = []\n",
        "\n",
        "for i in range(len(train)):\n",
        "  im2arr = np.array(train[i]) # im2arr.shape: height x width x channel\n",
        "  training_data.append(im2arr)\n",
        "\n",
        "#converting the test images into numpy array\n",
        "for i in range(len(test)):\n",
        "  im2arr = np.array(test[i])\n",
        "  testing_data.append(im2arr)"
      ],
      "metadata": {
        "id": "sqEpoReHECkN"
      },
      "execution_count": null,
      "outputs": []
    },
    {
      "cell_type": "code",
      "source": [
        "upside_down_training = []\n",
        "upside_down_testing = []\n",
        "\n",
        "#rotating the first 25000 images and leaving the rest as normal\n",
        "import cv2\n",
        "for i in training_data[:25000]:\n",
        "  img = cv2.rotate(i,cv2.ROTATE_180)\n",
        "  upside_down_training.append(img)\n",
        "\n",
        "normal_training = training_data[25000:]\n",
        "print(len(normal_training))\n",
        "\n",
        "#doing the same for the test data\n",
        "for i in testing_data[:5000]:\n",
        "  img = cv2.rotate(i,cv2.ROTATE_180)\n",
        "  upside_down_testing.append(img)\n",
        "\n",
        "normal_testing = testing_data[5000:]\n",
        "print(len(normal_testing))"
      ],
      "metadata": {
        "colab": {
          "base_uri": "https://localhost:8080/"
        },
        "id": "Y17PLXkwIQSq",
        "outputId": "a206f4d9-3b9d-4992-da87-be860c136fb7"
      },
      "execution_count": null,
      "outputs": [
        {
          "output_type": "stream",
          "name": "stdout",
          "text": [
            "25000\n",
            "5000\n"
          ]
        }
      ]
    },
    {
      "cell_type": "code",
      "source": [
        "#creating the labels for both the training data and testing data: 0 for upside down and 1 for normal\n",
        "training = []\n",
        "for i,j in zip(upside_down_training, normal_training):\n",
        "  training.append([i,0])\n",
        "  training.append([j,1])\n",
        "\n",
        "testing = []\n",
        "for k, m in zip(upside_down_testing, normal_testing):\n",
        "  testing.append([k,0])\n",
        "  testing.append([m,1])"
      ],
      "metadata": {
        "id": "HP0u3-GVKjA2"
      },
      "execution_count": null,
      "outputs": []
    },
    {
      "cell_type": "code",
      "source": [
        "#shuffling the training dataset so that the model will not cram the pattern\n",
        "\n",
        "shuffle(training)\n",
        "shuffle(testing)"
      ],
      "metadata": {
        "id": "O8lz3LzzeO6O"
      },
      "execution_count": null,
      "outputs": []
    },
    {
      "cell_type": "code",
      "source": [
        "#splitting the data into x_train, x_test, y_train, y_test\n",
        "x_train=[]\n",
        "y_train = []\n",
        "\n",
        "for i,j in training:\n",
        "  x_train.append(i)\n",
        "  y_train.append(j)\n",
        "\n",
        "x_test = []\n",
        "y_test = []\n",
        "for i,j in testing:\n",
        "  x_test.append(i)\n",
        "  y_test.append(j)"
      ],
      "metadata": {
        "id": "NbtGYzMxeEdM"
      },
      "execution_count": null,
      "outputs": []
    },
    {
      "cell_type": "code",
      "source": [
        "arr2im = Image.fromarray(x_test[310])\n",
        "arr2im"
      ],
      "metadata": {
        "colab": {
          "base_uri": "https://localhost:8080/",
          "height": 49
        },
        "id": "zPQf6ZQwfCn2",
        "outputId": "5f0356fd-8687-4859-95d4-6b3407671201"
      },
      "execution_count": null,
      "outputs": [
        {
          "output_type": "execute_result",
          "data": {
            "text/plain": [
              "<PIL.Image.Image image mode=RGB size=32x32 at 0x7FDED9790E50>"
            ],
            "image/png": "[encoded data removed]"
          },
          "metadata": {},
          "execution_count": 41
        }
      ]
    },
    {
      "cell_type": "code",
      "source": [
        "y_test[300]"
      ],
      "metadata": {
        "colab": {
          "base_uri": "https://localhost:8080/"
        },
        "id": "dSwgGHipiUlD",
        "outputId": "28b54b78-bd1b-4128-831f-2e874488986c"
      },
      "execution_count": null,
      "outputs": [
        {
          "output_type": "execute_result",
          "data": {
            "text/plain": [
              "0"
            ]
          },
          "metadata": {},
          "execution_count": 42
        }
      ]
    },
    {
      "cell_type": "code",
      "source": [
        "#for CNN , we need t0 reshape the data "
      ],
      "metadata": {
        "id": "qLD97gXaQW1a"
      },
      "execution_count": null,
      "outputs": []
    },
    {
      "cell_type": "code",
      "source": [
        "#to check the dataset of the first image "
      ],
      "metadata": {
        "id": "xXGpGIg7Qcm9"
      },
      "execution_count": null,
      "outputs": []
    },
    {
      "cell_type": "code",
      "source": [
        "#rescaling to shape of zero to 1 scale\n",
        "x_train = np.array(x_train)\n",
        "x_test= np.array(x_test)\n",
        "y_train = np.array(y_train)\n",
        "y_test= np.array(y_test)\n",
        "x_train = x_train/255.0\n",
        "x_test = x_test/255.0"
      ],
      "metadata": {
        "id": "9FQesMBATCb2"
      },
      "execution_count": null,
      "outputs": []
    },
    {
      "cell_type": "code",
      "source": [
        "x_train[0]"
      ],
      "metadata": {
        "id": "JWWACubiQkOz",
        "outputId": "4331bba5-ac71-4ff3-d6fe-d19882ec7450",
        "colab": {
          "base_uri": "https://localhost:8080/"
        }
      },
      "execution_count": null,
      "outputs": [
        {
          "output_type": "execute_result",
          "data": {
            "text/plain": [
              "array([[[0.27058824, 0.39607843, 0.60784314],\n",
              "        [0.2627451 , 0.38431373, 0.59607843],\n",
              "        [0.26666667, 0.38823529, 0.59215686],\n",
              "        ...,\n",
              "        [0.19215686, 0.31372549, 0.50196078],\n",
              "        [0.21176471, 0.32156863, 0.50196078],\n",
              "        [0.21568627, 0.31764706, 0.50196078]],\n",
              "\n",
              "       [[0.3254902 , 0.44313725, 0.63921569],\n",
              "        [0.31372549, 0.43137255, 0.62745098],\n",
              "        [0.32156863, 0.43529412, 0.62352941],\n",
              "        ...,\n",
              "        [0.23137255, 0.3372549 , 0.5254902 ],\n",
              "        [0.23529412, 0.32941176, 0.50980392],\n",
              "        [0.21176471, 0.30588235, 0.4745098 ]],\n",
              "\n",
              "       [[0.37254902, 0.48235294, 0.6627451 ],\n",
              "        [0.36862745, 0.47058824, 0.65490196],\n",
              "        [0.37254902, 0.4745098 , 0.65098039],\n",
              "        ...,\n",
              "        [0.26666667, 0.35686275, 0.53333333],\n",
              "        [0.25098039, 0.32941176, 0.50196078],\n",
              "        [0.23137255, 0.31372549, 0.47058824]],\n",
              "\n",
              "       ...,\n",
              "\n",
              "       [[0.22352941, 0.31764706, 0.47843137],\n",
              "        [0.21960784, 0.30980392, 0.48235294],\n",
              "        [0.22352941, 0.31372549, 0.49411765],\n",
              "        ...,\n",
              "        [0.88235294, 0.84705882, 0.63529412],\n",
              "        [0.89019608, 0.85098039, 0.64313725],\n",
              "        [0.89019608, 0.8627451 , 0.6627451 ]],\n",
              "\n",
              "       [[0.23921569, 0.32941176, 0.49411765],\n",
              "        [0.23529412, 0.3254902 , 0.49411765],\n",
              "        [0.23137255, 0.3254902 , 0.49803922],\n",
              "        ...,\n",
              "        [0.80784314, 0.77254902, 0.60784314],\n",
              "        [0.81960784, 0.78431373, 0.62352941],\n",
              "        [0.81960784, 0.79215686, 0.63529412]],\n",
              "\n",
              "       [[0.24313725, 0.33333333, 0.49803922],\n",
              "        [0.24313725, 0.33333333, 0.49803922],\n",
              "        [0.23529412, 0.32941176, 0.49803922],\n",
              "        ...,\n",
              "        [0.58431373, 0.55686275, 0.44313725],\n",
              "        [0.58039216, 0.54901961, 0.43921569],\n",
              "        [0.59215686, 0.56470588, 0.4627451 ]]])"
            ]
          },
          "metadata": {},
          "execution_count": 49
        }
      ]
    },
    {
      "cell_type": "code",
      "source": [
        "x_train[0].shape"
      ],
      "metadata": {
        "id": "jMofdI13R02M",
        "colab": {
          "base_uri": "https://localhost:8080/"
        },
        "outputId": "bf04635c-1d34-4c49-ce7f-8b6520f682b4"
      },
      "execution_count": null,
      "outputs": [
        {
          "output_type": "execute_result",
          "data": {
            "text/plain": [
              "(32, 32, 3)"
            ]
          },
          "metadata": {},
          "execution_count": 50
        }
      ]
    },
    {
      "cell_type": "code",
      "source": [
        "x_train = x_train.reshape (len(x_train), 32,32,3)\n",
        "x_test = x_test.reshape (len(x_test), 32,32,3)\n",
        "\n"
      ],
      "metadata": {
        "id": "CzTBNA6rVkM5"
      },
      "execution_count": null,
      "outputs": []
    },
    {
      "cell_type": "code",
      "source": [
        "#CREATE CNN MODEL \n",
        "import tensorflow as tf\n",
        "from tensorflow import keras\n",
        "import pandas as pd\n",
        "import numpy as np\n",
        "import matplotlib.pyplot as plt\n",
        "from keras import layers"
      ],
      "metadata": {
        "id": "Y2A2PlydWD1T"
      },
      "execution_count": null,
      "outputs": []
    },
    {
      "cell_type": "code",
      "source": [
        "cnn = keras.Sequential([\n",
        "    layers.Conv2D(filters=32, activation=\"relu\", kernel_size=(3,3), input_shape=(32,32,3)),\n",
        "    layers.MaxPooling2D((2,2)),\n",
        "\n",
        "    layers.Conv2D(filters =64, kernel_size=(3,3), activation=\"relu\"),\n",
        "    layers.MaxPooling2D((2,2)),\n",
        "\n",
        "    layers.Conv2D(filters =64, kernel_size=(3,3), activation=\"relu\"),\n",
        "    layers.MaxPooling2D((2,2)),\n",
        "\n",
        "    layers.Flatten(),\n",
        "    layers.Dense(64, activation=\"relu\"),\n",
        "    layers.Dense(1, activation=\"sigmoid\")]) "
      ],
      "metadata": {
        "id": "H-0xwSgTYDCO"
      },
      "execution_count": null,
      "outputs": []
    },
    {
      "cell_type": "code",
      "source": [
        "#compiling the model\n",
        "cnn.compile(optimizer=\"adam\", loss=\"binary_crossentropy\", metrics=[\"accuracy\"])"
      ],
      "metadata": {
        "id": "aMRzaYPRYQ_x"
      },
      "execution_count": null,
      "outputs": []
    },
    {
      "cell_type": "code",
      "source": [
        "#training our model\n",
        "cnn.fit(x_train, y_train, epochs=15,validation_split=0.1)"
      ],
      "metadata": {
        "colab": {
          "base_uri": "https://localhost:8080/"
        },
        "id": "jtTKnGBQYvri",
        "outputId": "cad75127-59ab-429d-a7fa-fccb1bc80cd3"
      },
      "execution_count": null,
      "outputs": [
        {
          "output_type": "stream",
          "name": "stdout",
          "text": [
            "Epoch 1/15\n",
            "1407/1407 [==============================] - 14s 9ms/step - loss: 0.5681 - accuracy: 0.6859 - val_loss: 0.5031 - val_accuracy: 0.7420\n",
            "Epoch 2/15\n",
            "1407/1407 [==============================] - 12s 8ms/step - loss: 0.4871 - accuracy: 0.7551 - val_loss: 0.4520 - val_accuracy: 0.7740\n",
            "Epoch 3/15\n",
            "1407/1407 [==============================] - 11s 8ms/step - loss: 0.4479 - accuracy: 0.7800 - val_loss: 0.4304 - val_accuracy: 0.7884\n",
            "Epoch 4/15\n",
            "1407/1407 [==============================] - 12s 8ms/step - loss: 0.4181 - accuracy: 0.7984 - val_loss: 0.4207 - val_accuracy: 0.7966\n",
            "Epoch 5/15\n",
            "1407/1407 [==============================] - 12s 8ms/step - loss: 0.3954 - accuracy: 0.8112 - val_loss: 0.4314 - val_accuracy: 0.7908\n",
            "Epoch 6/15\n",
            "1407/1407 [==============================] - 12s 9ms/step - loss: 0.3724 - accuracy: 0.8261 - val_loss: 0.4186 - val_accuracy: 0.8008\n",
            "Epoch 7/15\n",
            "1407/1407 [==============================] - 12s 9ms/step - loss: 0.3540 - accuracy: 0.8383 - val_loss: 0.4132 - val_accuracy: 0.7938\n",
            "Epoch 8/15\n",
            "1407/1407 [==============================] - 12s 8ms/step - loss: 0.3367 - accuracy: 0.8446 - val_loss: 0.4063 - val_accuracy: 0.8104\n",
            "Epoch 9/15\n",
            "1407/1407 [==============================] - 12s 9ms/step - loss: 0.3193 - accuracy: 0.8562 - val_loss: 0.4383 - val_accuracy: 0.8002\n",
            "Epoch 10/15\n",
            "1407/1407 [==============================] - 12s 8ms/step - loss: 0.3052 - accuracy: 0.8624 - val_loss: 0.4068 - val_accuracy: 0.8172\n",
            "Epoch 11/15\n",
            "1407/1407 [==============================] - 12s 8ms/step - loss: 0.2852 - accuracy: 0.8743 - val_loss: 0.4369 - val_accuracy: 0.8042\n",
            "Epoch 12/15\n",
            "1407/1407 [==============================] - 12s 8ms/step - loss: 0.2702 - accuracy: 0.8799 - val_loss: 0.4590 - val_accuracy: 0.8048\n",
            "Epoch 13/15\n",
            "1407/1407 [==============================] - 12s 8ms/step - loss: 0.2560 - accuracy: 0.8874 - val_loss: 0.4506 - val_accuracy: 0.8166\n",
            "Epoch 14/15\n",
            "1407/1407 [==============================] - 12s 8ms/step - loss: 0.2389 - accuracy: 0.8957 - val_loss: 0.4764 - val_accuracy: 0.8018\n",
            "Epoch 15/15\n",
            "1407/1407 [==============================] - 12s 8ms/step - loss: 0.2226 - accuracy: 0.9046 - val_loss: 0.4731 - val_accuracy: 0.8088\n"
          ]
        },
        {
          "output_type": "execute_result",
          "data": {
            "text/plain": [
              "<keras.callbacks.History at 0x7fdfd42d9950>"
            ]
          },
          "metadata": {},
          "execution_count": 55
        }
      ]
    },
    {
      "cell_type": "code",
      "source": [
        "#Our predicted values\n",
        "y_pred = cnn.predict(x_test)\n",
        "y_pred =[0 if i < 0.5 else 1 for i in y_pred[10:20]]\n",
        "y_pred"
      ],
      "metadata": {
        "colab": {
          "base_uri": "https://localhost:8080/"
        },
        "id": "Zmql3N4vahIO",
        "outputId": "2a4691e9-e923-41b3-a8b0-a7082fcdf58e"
      },
      "execution_count": null,
      "outputs": [
        {
          "output_type": "execute_result",
          "data": {
            "text/plain": [
              "[1, 0, 1, 1, 1, 1, 1, 0, 1, 1]"
            ]
          },
          "metadata": {},
          "execution_count": 74
        }
      ]
    },
    {
      "cell_type": "code",
      "source": [
        "#Real values\n",
        "y_test[10:20]"
      ],
      "metadata": {
        "id": "99kWmMo-gPuM",
        "colab": {
          "base_uri": "https://localhost:8080/"
        },
        "outputId": "64cfdeae-8428-49aa-8da4-85212eb10d4b"
      },
      "execution_count": null,
      "outputs": [
        {
          "output_type": "execute_result",
          "data": {
            "text/plain": [
              "array([1, 1, 1, 1, 1, 1, 1, 0, 1, 1])"
            ]
          },
          "metadata": {},
          "execution_count": 75
        }
      ]
    },
    {
      "cell_type": "code",
      "source": [
        "#importing the necessary libraries\n",
        "import numpy as np\n",
        "import pandas as pd\n",
        "import tensorflow as tf\n",
        "from tensorflow import keras \n",
        "from keras.preprocessing.image import ImageDataGenerator\n",
        "from keras.preprocessing.image import image_dataset_from_directory\n",
        "from keras.layers import Conv2D, Dense, MaxPooling2D, Dropout,Flatten\n",
        "from keras.models import Model\n",
        "from keras.applications.vgg16 import VGG16"
      ],
      "metadata": {
        "id": "hmKBGP83o3Ua"
      },
      "execution_count": null,
      "outputs": []
    },
    {
      "cell_type": "code",
      "source": [
        "#using pre trained model\n",
        "model = VGG16(include_top=False, input_shape=(32,32,3), weights=\"imagenet\") \n",
        "for layer in model.layers:\n",
        "    layer.trainable = False\n",
        "x = Flatten()(model.output)\n",
        "dense1 = Dense(1024, activation=\"relu\")(x)\n",
        "prediction = Dense(1, activation=\"sigmoid\")(dense1)\n",
        "model = Model(inputs=model.inputs, outputs=prediction)"
      ],
      "metadata": {
        "id": "jlh8eRflnjmw"
      },
      "execution_count": null,
      "outputs": []
    },
    {
      "cell_type": "code",
      "source": [
        "model.compile(\n",
        "    optimizer = 'adam',\n",
        "    loss = \"binary_crossentropy\",\n",
        "    metrics  = ['accuracy']\n",
        "    )\n"
      ],
      "metadata": {
        "id": "oX0fWzlnskhE"
      },
      "execution_count": null,
      "outputs": []
    },
    {
      "cell_type": "code",
      "source": [
        "model.fit(x_train, y_train, epochs=20, validation_split=0.1)"
      ],
      "metadata": {
        "colab": {
          "base_uri": "https://localhost:8080/"
        },
        "id": "_EhrdO9psuJ5",
        "outputId": "59efcff5-31e4-42a2-9bed-b81607e99e11"
      },
      "execution_count": null,
      "outputs": [
        {
          "output_type": "stream",
          "name": "stdout",
          "text": [
            "Epoch 1/20\n",
            "1407/1407 [==============================] - 32s 22ms/step - loss: 0.5763 - accuracy: 0.6850 - val_loss: 0.5471 - val_accuracy: 0.7110\n",
            "Epoch 2/20\n",
            "1407/1407 [==============================] - 30s 22ms/step - loss: 0.5228 - accuracy: 0.7272 - val_loss: 0.5243 - val_accuracy: 0.7226\n",
            "Epoch 3/20\n",
            "1407/1407 [==============================] - 30s 21ms/step - loss: 0.4944 - accuracy: 0.7436 - val_loss: 0.5192 - val_accuracy: 0.7280\n",
            "Epoch 4/20\n",
            "1407/1407 [==============================] - 30s 21ms/step - loss: 0.4713 - accuracy: 0.7619 - val_loss: 0.4938 - val_accuracy: 0.7462\n",
            "Epoch 5/20\n",
            "1407/1407 [==============================] - 30s 22ms/step - loss: 0.4504 - accuracy: 0.7767 - val_loss: 0.4909 - val_accuracy: 0.7460\n",
            "Epoch 6/20\n",
            "1407/1407 [==============================] - 31s 22ms/step - loss: 0.4320 - accuracy: 0.7895 - val_loss: 0.5066 - val_accuracy: 0.7434\n",
            "Epoch 7/20\n",
            "1407/1407 [==============================] - 31s 22ms/step - loss: 0.4156 - accuracy: 0.7971 - val_loss: 0.4923 - val_accuracy: 0.7516\n",
            "Epoch 8/20\n",
            "1407/1407 [==============================] - 31s 22ms/step - loss: 0.3967 - accuracy: 0.8074 - val_loss: 0.5009 - val_accuracy: 0.7534\n",
            "Epoch 9/20\n",
            "1407/1407 [==============================] - 30s 21ms/step - loss: 0.3775 - accuracy: 0.8207 - val_loss: 0.5109 - val_accuracy: 0.7514\n",
            "Epoch 10/20\n",
            "1407/1407 [==============================] - 33s 23ms/step - loss: 0.3614 - accuracy: 0.8277 - val_loss: 0.5021 - val_accuracy: 0.7508\n",
            "Epoch 11/20\n",
            "1407/1407 [==============================] - 33s 23ms/step - loss: 0.3419 - accuracy: 0.8398 - val_loss: 0.5263 - val_accuracy: 0.7410\n",
            "Epoch 12/20\n",
            "1407/1407 [==============================] - 31s 22ms/step - loss: 0.3239 - accuracy: 0.8503 - val_loss: 0.5121 - val_accuracy: 0.7628\n",
            "Epoch 13/20\n",
            "1407/1407 [==============================] - 31s 22ms/step - loss: 0.3034 - accuracy: 0.8620 - val_loss: 0.5408 - val_accuracy: 0.7568\n",
            "Epoch 14/20\n",
            "1407/1407 [==============================] - 31s 22ms/step - loss: 0.2889 - accuracy: 0.8692 - val_loss: 0.5414 - val_accuracy: 0.7666\n",
            "Epoch 15/20\n",
            "1407/1407 [==============================] - 30s 22ms/step - loss: 0.2723 - accuracy: 0.8778 - val_loss: 0.5708 - val_accuracy: 0.7590\n",
            "Epoch 16/20\n",
            "1407/1407 [==============================] - 30s 22ms/step - loss: 0.2547 - accuracy: 0.8876 - val_loss: 0.5704 - val_accuracy: 0.7608\n",
            "Epoch 17/20\n",
            "1407/1407 [==============================] - 30s 22ms/step - loss: 0.2369 - accuracy: 0.8977 - val_loss: 0.5985 - val_accuracy: 0.7604\n",
            "Epoch 18/20\n",
            "1407/1407 [==============================] - 33s 23ms/step - loss: 0.2235 - accuracy: 0.9029 - val_loss: 0.6075 - val_accuracy: 0.7616\n",
            "Epoch 19/20\n",
            "1407/1407 [==============================] - 30s 22ms/step - loss: 0.2074 - accuracy: 0.9122 - val_loss: 0.6517 - val_accuracy: 0.7594\n",
            "Epoch 20/20\n",
            "1407/1407 [==============================] - 31s 22ms/step - loss: 0.1960 - accuracy: 0.9166 - val_loss: 0.6580 - val_accuracy: 0.7632\n"
          ]
        },
        {
          "output_type": "execute_result",
          "data": {
            "text/plain": [
              "<keras.callbacks.History at 0x7fdfdab90690>"
            ]
          },
          "metadata": {},
          "execution_count": 69
        }
      ]
    },
    {
      "cell_type": "code",
      "source": [
        "#making predictions\n",
        "predictions = model.predict(x_test)"
      ],
      "metadata": {
        "id": "OwgcH_0HPNxb"
      },
      "execution_count": null,
      "outputs": []
    },
    {
      "cell_type": "code",
      "source": [
        "#our predicted values\n",
        "y_preds = [0 if i < 0.5 else 1 for i in predictions[20:30]]\n",
        "y_preds"
      ],
      "metadata": {
        "colab": {
          "base_uri": "https://localhost:8080/"
        },
        "id": "wAqTxpufVCMd",
        "outputId": "e0186c13-d876-48a6-cdcd-0d5bee9bf8b9"
      },
      "execution_count": null,
      "outputs": [
        {
          "output_type": "execute_result",
          "data": {
            "text/plain": [
              "[1, 0, 0, 1, 1, 1, 0, 0, 0, 0]"
            ]
          },
          "metadata": {},
          "execution_count": 72
        }
      ]
    },
    {
      "cell_type": "code",
      "source": [
        "#real values\n",
        "y_train[20:30]"
      ],
      "metadata": {
        "colab": {
          "base_uri": "https://localhost:8080/"
        },
        "id": "XZBa8IvEVNiu",
        "outputId": "0fbe55b4-451e-4185-8d53-620e4529c505"
      },
      "execution_count": null,
      "outputs": [
        {
          "output_type": "execute_result",
          "data": {
            "text/plain": [
              "array([0, 1, 0, 0, 1, 1, 1, 1, 1, 1])"
            ]
          },
          "metadata": {},
          "execution_count": 73
        }
      ]
    },
    {
      "cell_type": "code",
      "source": [
        ""
      ],
      "metadata": {
        "id": "nHJxGfvtVxtn"
      },
      "execution_count": null,
      "outputs": []
    }
  ]
}